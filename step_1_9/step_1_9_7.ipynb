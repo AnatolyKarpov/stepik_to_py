{
 "cells": [
  {
   "cell_type": "markdown",
   "metadata": {},
   "source": [
    "https://stepik.org/lesson/26186/step/7?unit=8128\n",
    "\n",
    "Задачка на программирование.\n",
    "\n",
    "Напишите функцию stat_mode, которая получает на вход список из чисел произвольной длины и возвращает список с наиболее часто встречаемым значением. Если наиболее часто встречаемых значений несколько, функция должна возвращать несколько значений моды  в виде списка чисел. "
   ]
  },
  {
   "cell_type": "code",
   "execution_count": 124,
   "metadata": {},
   "outputs": [],
   "source": [
    "# код выполняется перед стартом задачи"
   ]
  },
  {
   "cell_type": "code",
   "execution_count": 1,
   "metadata": {},
   "outputs": [],
   "source": [
    "import sys\n",
    "\n",
    "import numpy as np\n",
    "import pandas as pd\n",
    "\n",
    "from typing import Callable, List, Tuple, Union"
   ]
  },
  {
   "cell_type": "code",
   "execution_count": 2,
   "metadata": {},
   "outputs": [],
   "source": [
    "class WrongAnswer(Exception):\n",
    "    def __init__(self, actual: List[int], expected: List[int]):\n",
    "        msg = (\n",
    "            '\\nПроверьте ваши вычисления.'\n",
    "            '\\nВаш ответ {actual}'\n",
    "            '\\nПравильный ответ {expected}'\n",
    "        )\n",
    "        \n",
    "        super().__init__(\n",
    "            msg.format(\n",
    "                actual=actual, \n",
    "                expected=expected\n",
    "            )\n",
    "        )\n"
   ]
  },
  {
   "cell_type": "code",
   "execution_count": 3,
   "metadata": {},
   "outputs": [],
   "source": [
    "def result_is_correct(actual: List[int], expected: List[int]) -> bool:\n",
    "    return set(actual) == set(expected)"
   ]
  },
  {
   "cell_type": "code",
   "execution_count": 4,
   "metadata": {},
   "outputs": [],
   "source": [
    "def get_test_cases() -> List[Tuple[List[int]]]:\n",
    "    test_cases = [\n",
    "        ([1, 1, 2, 2, 2, 3, 3], [2]),\n",
    "        ([1, 1, 1, 1, 1, 1], [1]),\n",
    "        ([1, 2, 3, 4, 5], [1, 2, 3, 4, 5]),\n",
    "        ([], []),\n",
    "        ([1, 2, 2, 2, 3, 3, 4, 5, 5, 5], [2, 5]),\n",
    "        ([999999, -10000, 8888, -10, 500, -10], [-10]),\n",
    "    ]\n",
    "    return test_cases"
   ]
  },
  {
   "cell_type": "code",
   "execution_count": 5,
   "metadata": {},
   "outputs": [],
   "source": [
    "def check_student_func(student_func: Callable[[List[int]], List[int]]):\n",
    "    for input_data, expected_answer in get_test_cases():\n",
    "        student_answer = student_func(input_data)\n",
    "        \n",
    "        if not result_is_correct(student_answer, expected_answer):\n",
    "            raise WrongAnswer(actual=student_answer, expected=expected_answer)"
   ]
  },
  {
   "cell_type": "code",
   "execution_count": 6,
   "metadata": {},
   "outputs": [],
   "source": [
    "# студент вводит свой код"
   ]
  },
  {
   "cell_type": "code",
   "execution_count": 6,
   "metadata": {},
   "outputs": [],
   "source": [
    "def stat_mode(x: List[int]) -> List[int]:\n",
    "    # Напишите ваш код здесь\n",
    "    pass"
   ]
  },
  {
   "cell_type": "code",
   "execution_count": 8,
   "metadata": {},
   "outputs": [],
   "source": [
    "# код, который выполняется после отправки решения"
   ]
  },
  {
   "cell_type": "code",
   "execution_count": 7,
   "metadata": {},
   "outputs": [],
   "source": [
    "def main():\n",
    "    try:\n",
    "        check_student_func(stat_mode)\n",
    "    except Exception as e:\n",
    "        sys.exit(e)\n",
    "    else:\n",
    "        print('correct')\n"
   ]
  },
  {
   "cell_type": "markdown",
   "metadata": {},
   "source": [
    "# Tests"
   ]
  },
  {
   "cell_type": "code",
   "execution_count": 9,
   "metadata": {},
   "outputs": [
    {
     "ename": "SystemExit",
     "evalue": "name 'stat_mode' is not defined",
     "output_type": "error",
     "traceback": [
      "An exception has occurred, use %tb to see the full traceback.\n",
      "\u001B[0;31mSystemExit\u001B[0m\u001B[0;31m:\u001B[0m name 'stat_mode' is not defined\n"
     ]
    },
    {
     "name": "stderr",
     "output_type": "stream",
     "text": [
      "/home/porshnev-k/anaconda3/lib/python3.8/site-packages/IPython/core/interactiveshell.py:3351: UserWarning: To exit: use 'exit', 'quit', or Ctrl-D.\n",
      "  warn(\"To exit: use 'exit', 'quit', or Ctrl-D.\", stacklevel=1)\n"
     ]
    }
   ],
   "source": [
    "# Проверка, что создана нужная функция\n",
    "del stat_mode\n",
    "main()"
   ]
  },
  {
   "cell_type": "code",
   "execution_count": 10,
   "metadata": {},
   "outputs": [
    {
     "ename": "SystemExit",
     "evalue": "\nПроверьте ваши вычисления.\nВаш ответ [1]\nПравильный ответ [2]",
     "output_type": "error",
     "traceback": [
      "An exception has occurred, use %tb to see the full traceback.\n",
      "\u001B[0;31mSystemExit\u001B[0m\u001B[0;31m:\u001B[0m \nПроверьте ваши вычисления.\nВаш ответ [1]\nПравильный ответ [2]\n"
     ]
    }
   ],
   "source": [
    "stat_mode = lambda x: [1]\n",
    "main()"
   ]
  },
  {
   "cell_type": "code",
   "execution_count": 11,
   "metadata": {},
   "outputs": [
    {
     "ename": "SystemExit",
     "evalue": "\nПроверьте ваши вычисления.\nВаш ответ [3]\nПравильный ответ [2]",
     "output_type": "error",
     "traceback": [
      "An exception has occurred, use %tb to see the full traceback.\n",
      "\u001B[0;31mSystemExit\u001B[0m\u001B[0;31m:\u001B[0m \nПроверьте ваши вычисления.\nВаш ответ [3]\nПравильный ответ [2]\n"
     ]
    }
   ],
   "source": [
    "stat_mode = lambda x: [max(x)]\n",
    "main()"
   ]
  },
  {
   "cell_type": "code",
   "execution_count": 8,
   "metadata": {},
   "outputs": [],
   "source": [
    "def master_solution(x: List[int]) -> List[int]:\n",
    "    \"\"\"Авторское решение\"\"\"\n",
    "    return (\n",
    "        pd.Series(x, dtype='int32')\n",
    "            .mode()\n",
    "            .tolist()\n",
    "    )"
   ]
  },
  {
   "cell_type": "code",
   "execution_count": 12,
   "metadata": {},
   "outputs": [
    {
     "name": "stdout",
     "output_type": "stream",
     "text": [
      "correct\n"
     ]
    }
   ],
   "source": [
    "stat_mode = master_solution\n",
    "main()"
   ]
  },
  {
   "cell_type": "code",
   "execution_count": null,
   "metadata": {},
   "outputs": [],
   "source": []
  }
 ],
 "metadata": {
  "kernelspec": {
   "display_name": "Python 3",
   "language": "python",
   "name": "python3"
  },
  "language_info": {
   "codemirror_mode": {
    "name": "ipython",
    "version": 3
   },
   "file_extension": ".py",
   "mimetype": "text/x-python",
   "name": "python",
   "nbconvert_exporter": "python",
   "pygments_lexer": "ipython3",
   "version": "3.8.3"
  }
 },
 "nbformat": 4,
 "nbformat_minor": 4
}