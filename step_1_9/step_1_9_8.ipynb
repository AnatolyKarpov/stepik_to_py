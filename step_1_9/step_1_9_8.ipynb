{
 "cells": [
  {
   "cell_type": "markdown",
   "metadata": {},
   "source": [
    "https://stepik.org/lesson/26186/step/8?unit=8128\n",
    "\n",
    "Доктор Пилюлькин решил вооружиться статистикой, чтобы сравнить эффективность трех лекарств! Давайте поможем ему и напишем функцию max_resid, которая получает на вход две pd.Series: тип лекарства и результат его применения. \n",
    "\n",
    "Drugs - фактор с тремя градациями: drug_1, drug_2, drug_3.     \n",
    "Result - фактор с двумя градациями: positive, negative.\n",
    "\n",
    "Функция должна строить таблицу сопряженности, а затем находить ячейку с максимальным  значением стандартизированного остатка и возвращать кортеж из двух элементов: название строчки и столбца этой ячейки.\n",
    "\n",
    "Вам могут понадобиться следующие функции:    \n",
    "[pandas.crosstab](https://pandas.pydata.org/docs/reference/api/pandas.crosstab.html)    \n",
    "[pandas.Series.argmax](https://pandas.pydata.org/docs/reference/api/pandas.Series.argmax.html)    \n",
    "[statsmodels.stats.contingency_tables.Table](https://www.statsmodels.org/stable/generated/statsmodels.stats.contingency_tables.Table.html)    \n",
    "\n",
    "Изучите справку по этим функциям\n",
    "\n",
    "Пример работы функции на одном из вариантов:\n",
    "```python\n",
    ">>> df = pd.read_csv('data.csv')\n",
    ">>> df.head()\n",
    "    Drugs   Results\n",
    "0  drug_2  positive\n",
    "1  drug_1  negative\n",
    "2  drug_3  positive\n",
    "3  drug_2  positive\n",
    "4  drug_2  negative\n",
    "\n",
    ">>> max_resid(rows=df['Drugs'], columns=df['Results'])\n",
    "('drug_1', 'positive')\n",
    "```"
   ]
  },
  {
   "cell_type": "code",
   "execution_count": 11,
   "metadata": {},
   "outputs": [],
   "source": [
    "import sys\n",
    "\n",
    "import pandas as pd\n",
    "import numpy as np                                                                                   \n",
    "import statsmodels.api as sm \n",
    "\n",
    "from itertools import repeat\n",
    "from typing import Callable, List, Tuple, Union"
   ]
  },
  {
   "cell_type": "code",
   "execution_count": 12,
   "metadata": {},
   "outputs": [],
   "source": [
    "class WrongAnswer(Exception):\n",
    "    def __init__(self, actual: Tuple[str, str], expected: Tuple[str, str]):\n",
    "        msg = (\n",
    "            '\\nПроверьте ваши вычисления.'\n",
    "            '\\nВаш ответ {actual}'\n",
    "            '\\nПравильный ответ {expected}'\n",
    "        )\n",
    "        \n",
    "        super().__init__(\n",
    "            msg.format(\n",
    "                actual=actual, \n",
    "                expected=expected\n",
    "            )\n",
    "        )"
   ]
  },
  {
   "cell_type": "code",
   "execution_count": 13,
   "metadata": {},
   "outputs": [],
   "source": [
    "def result_is_correct(actual: Tuple[str, str], expected: Tuple[str, str]) -> bool:\n",
    "    return actual == expected"
   ]
  },
  {
   "cell_type": "code",
   "execution_count": 14,
   "metadata": {},
   "outputs": [],
   "source": [
    "def get_test_cases() -> List[Tuple[int, pd.DataFrame, Tuple[str, str]]]:\n",
    "    test_cases = [\n",
    "        (\n",
    "            1,\n",
    "           [\n",
    "            *tuple(repeat(('drug_1', 'positive'), 2)),\n",
    "            *tuple(repeat(('drug_1', 'negative'), 2)),\n",
    "            *tuple(repeat(('drug_2', 'positive'), 3)), #\n",
    "            *tuple(repeat(('drug_2', 'negative'), 2)),\n",
    "            *tuple(repeat(('drug_3', 'positive'), 2)),\n",
    "            *tuple(repeat(('drug_3', 'negative'), 2)),\n",
    "            ],\n",
    "            ('drug_2', 'positive')\n",
    "        ),\n",
    "        (\n",
    "            2,\n",
    "           [\n",
    "            *tuple(repeat(('drug_1', 'positive'), 1)),\n",
    "            *tuple(repeat(('drug_1', 'negative'), 20)), #\n",
    "            *tuple(repeat(('drug_2', 'positive'), 15)),\n",
    "            *tuple(repeat(('drug_2', 'negative'), 45)),  \n",
    "            *tuple(repeat(('drug_3', 'positive'), 12)),\n",
    "            *tuple(repeat(('drug_3', 'negative'), 36)),\n",
    "            ],\n",
    "            ('drug_1', 'negative')\n",
    "        ),\n",
    "        (\n",
    "            3,\n",
    "           [\n",
    "            *tuple(repeat(('drug_1', 'positive'), 10)),\n",
    "            *tuple(repeat(('drug_1', 'negative'), 10)), \n",
    "            *tuple(repeat(('drug_2', 'positive'), 10)),\n",
    "            *tuple(repeat(('drug_2', 'negative'), 10)), \n",
    "            *tuple(repeat(('drug_3', 'positive'), 11)), #\n",
    "            *tuple(repeat(('drug_3', 'negative'), 10)),\n",
    "            ],\n",
    "            ('drug_3', 'positive')\n",
    "        ),\n",
    "        \n",
    "    \n",
    "    ]\n",
    "    \n",
    "    columns=['Drugs', 'Results']\n",
    "    test_cases = [\n",
    "        (\n",
    "            idx,\n",
    "            pd.DataFrame(data=data, columns=columns),\n",
    "            answer\n",
    "        )\n",
    "        for idx, data, answer in test_cases\n",
    "    ]\n",
    "    \n",
    "    return test_cases"
   ]
  },
  {
   "cell_type": "code",
   "execution_count": 15,
   "metadata": {},
   "outputs": [],
   "source": [
    "def check_student_func(student_func: Callable[[List[int]], List[int]]):\n",
    "    for idx, input_data, expected_answer in get_test_cases():\n",
    "        student_answer = student_func(input_data['Drugs'], input_data['Results'])\n",
    "        \n",
    "        if not result_is_correct(student_answer, expected_answer):\n",
    "            raise WrongAnswer(actual=student_answer, expected=expected_answer)"
   ]
  },
  {
   "cell_type": "code",
   "execution_count": 16,
   "metadata": {},
   "outputs": [],
   "source": [
    "def max_resid(rows: pd.Series, columns: pd.Series) -> Tuple[str, str]:\n",
    "    \"\"\"\n",
    "    Функция должна строить таблицу сопряженности, \n",
    "    а затем находить ячейку с максимальным значением \n",
    "    стандартизированного остатка и возвращать кортеж из двух элементов: \n",
    "    название строчки и столбца этой ячейки\n",
    "    \n",
    "    Parameters\n",
    "    ----------\n",
    "    rows: pd.Series\n",
    "    columns: pd.Series\n",
    "    Количество элементов в строках и колонках совпадает\n",
    "    \n",
    "    Returns\n",
    "    -------\n",
    "    Возвращает кортеж из двух элементов: \n",
    "    название строчки и стобца ячейки \n",
    "    с максимальным значением стандартизированного остатка\n",
    "        Tuple[str, str]\n",
    "    \"\"\"\n",
    "    # Напишите ваш код здесь\n",
    "    return max_row_name, max_column_name"
   ]
  },
  {
   "cell_type": "code",
   "execution_count": 17,
   "metadata": {},
   "outputs": [],
   "source": [
    "def main():\n",
    "    try:\n",
    "        check_student_func(max_resid)\n",
    "    except Exception as e:\n",
    "        sys.exit(e)\n",
    "    else:\n",
    "        print('correct')"
   ]
  },
  {
   "cell_type": "code",
   "execution_count": 18,
   "metadata": {},
   "outputs": [],
   "source": [
    "def master_solution(rows: pd.Series, columns: pd.Series) -> Tuple[str, str]:\n",
    "    \"\"\"\n",
    "    Функция должна строить таблицу сопряженности, \n",
    "    а затем находить ячейку с максимальным значением \n",
    "    стандартизированного остатка и возвращать кортеж из двух элементов: \n",
    "    название строчки и столбца этой ячейки\n",
    "    \n",
    "    Parameters\n",
    "    ----------\n",
    "    rows: pd.Series\n",
    "    columns: pd.Series\n",
    "    Количество элементов в строках и колонках совпадает\n",
    "    \n",
    "    Returns\n",
    "    -------\n",
    "    Возвращает кортеж из двух элементов: \n",
    "    название строчки и стобца ячейки \n",
    "    с максимальным значением стандартизированного остатка\n",
    "        Tuple[str, str]\n",
    "    \"\"\"\n",
    "    \n",
    "    cross_tab = pd.crosstab(index=rows, columns=columns)\n",
    "    table = sm.stats.Table(cross_tab)\n",
    "    \n",
    "    standardized_residuals = table.standardized_resids\n",
    "    \n",
    "    max_row_name = standardized_residuals.max(axis=1).idxmax()\n",
    "    max_column_name = standardized_residuals.max(axis=0).idxmax()\n",
    "    \n",
    "    return max_row_name, max_column_name"
   ]
  },
  {
   "cell_type": "markdown",
   "metadata": {},
   "source": [
    "# Tests"
   ]
  },
  {
   "cell_type": "code",
   "execution_count": 19,
   "metadata": {},
   "outputs": [
    {
     "ename": "SystemExit",
     "evalue": "name 'max_resid' is not defined",
     "output_type": "error",
     "traceback": [
      "An exception has occurred, use %tb to see the full traceback.\n",
      "\u001b[0;31mSystemExit\u001b[0m\u001b[0;31m:\u001b[0m name 'max_resid' is not defined\n"
     ]
    }
   ],
   "source": [
    "# Проверка, что создана нужная функция\n",
    "del max_resid\n",
    "main()"
   ]
  },
  {
   "cell_type": "code",
   "execution_count": 20,
   "metadata": {},
   "outputs": [
    {
     "ename": "SystemExit",
     "evalue": "\nПроверьте ваши вычисления.\nВаш ответ ('drug_1', 'negative')\nПравильный ответ ('drug_2', 'positive')",
     "output_type": "error",
     "traceback": [
      "An exception has occurred, use %tb to see the full traceback.\n",
      "\u001b[0;31mSystemExit\u001b[0m\u001b[0;31m:\u001b[0m \nПроверьте ваши вычисления.\nВаш ответ ('drug_1', 'negative')\nПравильный ответ ('drug_2', 'positive')\n"
     ]
    }
   ],
   "source": [
    "max_resid = lambda x, y: ('drug_1', 'negative')\n",
    "main()"
   ]
  },
  {
   "cell_type": "code",
   "execution_count": 21,
   "metadata": {},
   "outputs": [
    {
     "ename": "SystemExit",
     "evalue": "\nПроверьте ваши вычисления.\nВаш ответ ('drug_1', 'negative')\nПравильный ответ ('drug_2', 'positive')",
     "output_type": "error",
     "traceback": [
      "An exception has occurred, use %tb to see the full traceback.\n",
      "\u001b[0;31mSystemExit\u001b[0m\u001b[0;31m:\u001b[0m \nПроверьте ваши вычисления.\nВаш ответ ('drug_1', 'negative')\nПравильный ответ ('drug_2', 'positive')\n"
     ]
    }
   ],
   "source": [
    "stat_mode = lambda x, y: (max(x), min(y))\n",
    "main()"
   ]
  },
  {
   "cell_type": "code",
   "execution_count": 22,
   "metadata": {},
   "outputs": [
    {
     "name": "stdout",
     "output_type": "stream",
     "text": [
      "correct\n"
     ]
    }
   ],
   "source": [
    "max_resid = master_solution\n",
    "main()"
   ]
  },
  {
   "cell_type": "markdown",
   "metadata": {},
   "source": [
    "# Dedug"
   ]
  },
  {
   "cell_type": "code",
   "execution_count": 187,
   "metadata": {},
   "outputs": [],
   "source": [
    "df = pd.DataFrame(\n",
    "    data=[\n",
    "            *tuple(repeat(('drug_1', 'positive'), 1)),\n",
    "            *tuple(repeat(('drug_1', 'negative'), 20)), #\n",
    "            *tuple(repeat(('drug_2', 'positive'), 15)),\n",
    "            *tuple(repeat(('drug_2', 'negative'), 45)), \n",
    "            *tuple(repeat(('drug_3', 'positive'), 12)),\n",
    "            *tuple(repeat(('drug_3', 'negative'), 36)),\n",
    "            ],\n",
    "    columns=['Drugs', 'Results']\n",
    ")"
   ]
  },
  {
   "cell_type": "code",
   "execution_count": 188,
   "metadata": {},
   "outputs": [
    {
     "data": {
      "text/html": [
       "<div>\n",
       "<style scoped>\n",
       "    .dataframe tbody tr th:only-of-type {\n",
       "        vertical-align: middle;\n",
       "    }\n",
       "\n",
       "    .dataframe tbody tr th {\n",
       "        vertical-align: top;\n",
       "    }\n",
       "\n",
       "    .dataframe thead th {\n",
       "        text-align: right;\n",
       "    }\n",
       "</style>\n",
       "<table border=\"1\" class=\"dataframe\">\n",
       "  <thead>\n",
       "    <tr style=\"text-align: right;\">\n",
       "      <th>Results</th>\n",
       "      <th>negative</th>\n",
       "      <th>positive</th>\n",
       "    </tr>\n",
       "    <tr>\n",
       "      <th>Drugs</th>\n",
       "      <th></th>\n",
       "      <th></th>\n",
       "    </tr>\n",
       "  </thead>\n",
       "  <tbody>\n",
       "    <tr>\n",
       "      <th>drug_1</th>\n",
       "      <td>20</td>\n",
       "      <td>1</td>\n",
       "    </tr>\n",
       "    <tr>\n",
       "      <th>drug_2</th>\n",
       "      <td>45</td>\n",
       "      <td>15</td>\n",
       "    </tr>\n",
       "    <tr>\n",
       "      <th>drug_3</th>\n",
       "      <td>36</td>\n",
       "      <td>12</td>\n",
       "    </tr>\n",
       "  </tbody>\n",
       "</table>\n",
       "</div>"
      ],
      "text/plain": [
       "Results  negative  positive\n",
       "Drugs                      \n",
       "drug_1         20         1\n",
       "drug_2         45        15\n",
       "drug_3         36        12"
      ]
     },
     "execution_count": 188,
     "metadata": {},
     "output_type": "execute_result"
    }
   ],
   "source": [
    "cross_tab = pd.crosstab(index=df['Drugs'], columns=df['Results'])\n",
    "cross_tab"
   ]
  },
  {
   "cell_type": "code",
   "execution_count": 189,
   "metadata": {},
   "outputs": [
    {
     "data": {
      "text/html": [
       "<div>\n",
       "<style scoped>\n",
       "    .dataframe tbody tr th:only-of-type {\n",
       "        vertical-align: middle;\n",
       "    }\n",
       "\n",
       "    .dataframe tbody tr th {\n",
       "        vertical-align: top;\n",
       "    }\n",
       "\n",
       "    .dataframe thead th {\n",
       "        text-align: right;\n",
       "    }\n",
       "</style>\n",
       "<table border=\"1\" class=\"dataframe\">\n",
       "  <thead>\n",
       "    <tr style=\"text-align: right;\">\n",
       "      <th>Results</th>\n",
       "      <th>negative</th>\n",
       "      <th>positive</th>\n",
       "    </tr>\n",
       "    <tr>\n",
       "      <th>Drugs</th>\n",
       "      <th></th>\n",
       "      <th></th>\n",
       "    </tr>\n",
       "  </thead>\n",
       "  <tbody>\n",
       "    <tr>\n",
       "      <th>drug_1</th>\n",
       "      <td>2.058478</td>\n",
       "      <td>-2.058478</td>\n",
       "    </tr>\n",
       "    <tr>\n",
       "      <th>drug_2</th>\n",
       "      <td>-0.846438</td>\n",
       "      <td>0.846438</td>\n",
       "    </tr>\n",
       "    <tr>\n",
       "      <th>drug_3</th>\n",
       "      <td>-0.698751</td>\n",
       "      <td>0.698751</td>\n",
       "    </tr>\n",
       "  </tbody>\n",
       "</table>\n",
       "</div>"
      ],
      "text/plain": [
       "Results  negative  positive\n",
       "Drugs                      \n",
       "drug_1   2.058478 -2.058478\n",
       "drug_2  -0.846438  0.846438\n",
       "drug_3  -0.698751  0.698751"
      ]
     },
     "execution_count": 189,
     "metadata": {},
     "output_type": "execute_result"
    }
   ],
   "source": [
    "table = sm.stats.Table(cross_tab)\n",
    "table.standardized_resids"
   ]
  },
  {
   "cell_type": "code",
   "execution_count": null,
   "metadata": {},
   "outputs": [],
   "source": []
  }
 ],
 "metadata": {
  "kernelspec": {
   "display_name": "Python 3",
   "language": "python",
   "name": "python3"
  },
  "language_info": {
   "codemirror_mode": {
    "name": "ipython",
    "version": 3
   },
   "file_extension": ".py",
   "mimetype": "text/x-python",
   "name": "python",
   "nbconvert_exporter": "python",
   "pygments_lexer": "ipython3",
   "version": "3.8.3"
  }
 },
 "nbformat": 4,
 "nbformat_minor": 4
}
