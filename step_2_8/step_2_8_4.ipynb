{
 "cells": [
  {
   "cell_type": "markdown",
   "metadata": {},
   "source": [
    "[2.8](https://stepik.org/lesson/26559/step/4?unit=8406)\n",
    "Представьте, что мы работаем в аэропорту в службе безопасности и сканируем багаж пассажиров. В нашем распоряжении есть информация о результатах проверки багажа за предыдущие месяцы. Про каждую вещь мы знаем:\n",
    "\n",
    "* являлся ли багаж запрещенным - is_prohibited (No - разрешенный, Yes - запрещенный) \n",
    "* его массу (кг) - weight\n",
    "* длину (см) - length\n",
    "* ширину (см) - width\n",
    "* тип багажа (сумка или чемодан) - type.\n",
    "\n",
    "Напишите функцию **get_features** , которая получает на вход набор данных о багаже. Строит логистическую регрессию, где зависимая переменная - являлся ли багаж запрещенным, а предикторы - остальные переменные, и возвращает вектор с названиями статистически значимых переменных (p < 0.05) (в модели без взаимодействия). Если в данных нет значимых предикторов, функция возвращает строку с сообщением  \"Prediction makes no sense\"."
   ]
  },
  {
   "cell_type": "code",
   "execution_count": 519,
   "metadata": {},
   "outputs": [],
   "source": [
    "# код выполняется перед стартом задачи"
   ]
  },
  {
   "cell_type": "code",
   "execution_count": 525,
   "metadata": {},
   "outputs": [],
   "source": [
    "import pandas as pd\n",
    "import numpy as np\n",
    "from random import randint, choices, uniform, normalvariate, seed\n",
    "import statsmodels.api as sm\n",
    "from itertools import combinations \n",
    "import numpy as np\n",
    "import sys\n",
    "from numpy import mean, array, exp\n",
    "###################################################################################\n",
    "#############Делаем так, чтобы ответы выпадали более-менее равномерно#############\n",
    "###################################################################################\n",
    "# Найдем все возможные варианты:\n",
    "s = 'Weight Height Width Type'.split() \n",
    "comb = []\n",
    "for y in list([x for z in range(1, len(s) + 1) for x in combinations(s,z)]):\n",
    "    comb.append(y)\n",
    "comb = [''.join(map(str, x)) for x in comb]\n",
    "comb.insert(0, 'No_sense')\n",
    "res = choices(comb) # Определим исход\n",
    "size = 1000\n",
    "# Сформируем датасет в зависимости от исхода:\n",
    "seed(1)\n",
    "weight = [normalvariate(23, 3) for _ in range(size)] # 23 кг. - максимальный вес багажа в Аэрофлоте. Остальные параметры тоже по Аэрофлоту.     \n",
    "height = [normalvariate(55, 10) for _ in range(size)]\n",
    "width = [normalvariate(40, 10) for _ in range(size)]\n",
    "type = choices(['сумка', 'чемодан'], k = size) # Просто рэндом.\n",
    "train_data = pd.DataFrame(list(zip(weight, height, width, type)), columns = ['weight', 'height', 'width', 'type'])\n",
    "train_data.type = pd.get_dummies(train_data.type, drop_first= True).astype('int')\n",
    "is_prohibited = [] # Независимую переменную генерируем в зависимости от исхода\n",
    "################################################## Генерация is_prohibited\n",
    "if res[0] == comb[0]: # Нет значимых предикторов\n",
    "    seed(1)\n",
    "    z = 1\n",
    "    pr = 1/(1 + math.exp(-z))\n",
    "    is_prohibited.extend(choices(['Yes', 'No'],  weights = [1 - pr, pr], k = size))\n",
    "elif res[0] == comb[1]: # Weight\n",
    "    seed(1)\n",
    "    z = 1 - 2 * array(weight)/ mean(weight)\n",
    "    pr = 1/(1+exp(-z))\n",
    "    for i in range(len(pr)):\n",
    "        is_prohibited.extend(choices(['Yes', 'No'],weights = [1 - pr[i], pr[i]]))\n",
    "elif res[0] == comb[2]: # Height\n",
    "    seed(1)\n",
    "    z = 1 - 2 * array(height)/ mean(height)\n",
    "    pr = 1/(1+exp(-z))\n",
    "    for i in range(len(pr)):\n",
    "        is_prohibited.extend(choices(['Yes', 'No'],weights = [1 - pr[i], pr[i]]))\n",
    "elif res[0] == comb[3]: # Width\n",
    "    seed(1)\n",
    "    z = 1 - 2 * array(width)/ mean(width)\n",
    "    pr = 1/(1+exp(-z))\n",
    "    for i in range(len(pr)):\n",
    "        is_prohibited.extend(choices(['Yes', 'No'],weights = [1 - pr[i], pr[i]]))\n",
    "elif res[0] == comb[4]: # Type\n",
    "    seed(1)\n",
    "    z = 1 - 2 * array(train_data.type )/ mean(train_data.type )\n",
    "    pr = 1/(1+exp(-z))\n",
    "    for i in range(len(pr)):\n",
    "        is_prohibited.extend(choices(['Yes', 'No'],weights = [1 - pr[i], pr[i]]))\n",
    "elif res[0] == comb[5]: # WeightHeight\n",
    "    seed(1)\n",
    "    z = 1 - 2 * array(weight)/ mean(weight) + 2 * array(height)/ mean(height)\n",
    "    pr = 1/(1+exp(-z))\n",
    "    for i in range(len(pr)):\n",
    "        is_prohibited.extend(choices(['Yes', 'No'],weights = [1 - pr[i], pr[i]]))\n",
    "elif res[0] == comb[6]: # WeightWidth\n",
    "    seed(1)\n",
    "    z = 1 - 2.1 * array(weight)/ mean(weight) - 3 * array(width)/ mean(width)\n",
    "    pr = 1/(1+exp(-z))\n",
    "    for i in range(len(pr)):\n",
    "        is_prohibited.extend(choices(['Yes', 'No'],weights = [1 - pr[i], pr[i]]))\n",
    "elif res[0] == comb[7]: # WeightType\n",
    "    seed(1)\n",
    "    z = 1 - 2 * array(weight)/ mean(weight) + array(train_data.type)/ mean(train_data.type)\n",
    "    pr = 1/(1+exp(-z))\n",
    "    for i in range(len(pr)):\n",
    "        is_prohibited.extend(choices(['Yes', 'No'],weights = [1 - pr[i], pr[i]]))\n",
    "elif res[0] == comb[8]: # HeightWidth\n",
    "    seed(1)\n",
    "    z = 1 - 2 * array(height)/ mean(height) + 3* array(width)/ mean(width)\n",
    "    pr = 1/(1+exp(-z))\n",
    "    for i in range(len(pr)):\n",
    "        is_prohibited.extend(choices(['Yes', 'No'],weights = [1 - pr[i], pr[i]]))\n",
    "elif res[0] == comb[9]: # HeightType\n",
    "    seed(1)\n",
    "    z = 1 - 2 * array(height)/ mean(height) + array(train_data.type)/ mean(train_data.type)\n",
    "    pr = 1/(1+exp(-z))\n",
    "    for i in range(len(pr)):\n",
    "        is_prohibited.extend(choices(['Yes', 'No'],weights = [1 - pr[i], pr[i]]))\n",
    "elif res[0] == comb[10]: # WidthType\n",
    "    seed(1)\n",
    "    z = 1 - 2 * array(width)/ mean(width) + array(train_data.type)/ mean(train_data.type)\n",
    "    pr = 1/(1+exp(-z))\n",
    "    for i in range(len(pr)):\n",
    "        is_prohibited.extend(choices(['Yes', 'No'],weights = [1 - pr[i], pr[i]]))\n",
    "elif res[0] == comb[11]: # WeightHeightWidth\n",
    "    seed(1)\n",
    "    z = 1 - 2 * array(weight)/ mean(weight) + 3 * array(height)/ mean(height) - 4 * array(width)/ mean(width)\n",
    "    pr = 1/(1+exp(-z))\n",
    "    for i in range(len(pr)):\n",
    "        is_prohibited.extend(choices(['Yes', 'No'],weights = [1 - pr[i], pr[i]]))\n",
    "elif res[0] == comb[12]: # WeightHeightType\n",
    "    seed(1)\n",
    "    z = 1 - 1.1*array(weight)/ mean(weight) - 1.5 * array(height)/ mean(height) + array(train_data.type)/ mean(train_data.type)\n",
    "    pr = 1/(1+exp(-z))\n",
    "    for i in range(len(pr)):\n",
    "        is_prohibited.extend(choices(['Yes', 'No'],weights = [1 - pr[i], pr[i]]))\n",
    "elif res[0] == comb[13]: # WeightWidthType\n",
    "    seed(1)\n",
    "    z = 1 - 2.5 * array(weight)/ mean(weight) - 4 * array(width)/ mean(width) + array(train_data.type)/ mean(train_data.type)\n",
    "    pr = 1/(1+exp(-z))\n",
    "    for i in range(len(pr)):\n",
    "        is_prohibited.extend(choices(['Yes', 'No'],weights = [1 - pr[i], pr[i]]))\n",
    "elif res[0] == comb[14]: # HeightWidthType\n",
    "    seed(1)\n",
    "    z = 1 - 3 * array(height)/ mean(height) - 3 * array(width)/ mean(width) + array(train_data.type)/ mean(train_data.type)\n",
    "    pr = 1/(1+exp(-z))\n",
    "    for i in range(len(pr)):\n",
    "        is_prohibited.extend(choices(['Yes', 'No'],weights = [1 - pr[i], pr[i]]))\n",
    "elif res[0] == comb[15]: # WeightHeightWidthType\n",
    "    seed(1)\n",
    "    z = 1 - 3 * array(weight)/ mean(weight) + 3 * array(height)/ mean(height) - 4 * array(width)/ mean(width) + array(train_data.type)/ mean(train_data.type)\n",
    "    pr = 1/(1+exp(-z))\n",
    "    for i in range(len(pr)):\n",
    "        is_prohibited.extend(choices(['Yes', 'No'],weights = [1 - pr[i], pr[i]]))\n",
    "##################################################################################################\n",
    "train_data = pd.DataFrame(list(zip(is_prohibited, weight, height, width, train_data.type)), columns = ['is_prohibited', 'weight', 'height', 'width', 'type'])\n",
    "train_data.is_prohibited = train_data.is_prohibited.map(dict(Yes=1, No=0)) # Финальный датасет"
   ]
  },
  {
   "cell_type": "code",
   "execution_count": 526,
   "metadata": {
    "scrolled": true
   },
   "outputs": [],
   "source": [
    "# студент вводит свой код"
   ]
  },
  {
   "cell_type": "code",
   "execution_count": 527,
   "metadata": {},
   "outputs": [],
   "source": [
    "def get_features(train_data):\n",
    "    return ['type', 'weight']"
   ]
  },
  {
   "cell_type": "code",
   "execution_count": 528,
   "metadata": {},
   "outputs": [],
   "source": [
    "# код, который выполняется после отправки решения"
   ]
  },
  {
   "cell_type": "code",
   "execution_count": 529,
   "metadata": {},
   "outputs": [
    {
     "ename": "SystemExit",
     "evalue": "\nПроверьте ваши вычисления.\nВаш ответ ['type', 'weight']\nПравильный ответ ['weight', 'width']",
     "output_type": "error",
     "traceback": [
      "An exception has occurred, use %tb to see the full traceback.\n",
      "\u001b[1;31mSystemExit\u001b[0m\u001b[1;31m:\u001b[0m \nПроверьте ваши вычисления.\nВаш ответ ['type', 'weight']\nПравильный ответ ['weight', 'width']\n"
     ]
    },
    {
     "name": "stderr",
     "output_type": "stream",
     "text": [
      "c:\\users\\elizaveta\\appdata\\local\\programs\\python\\python37\\lib\\site-packages\\IPython\\core\\interactiveshell.py:3426: UserWarning: To exit: use 'exit', 'quit', or Ctrl-D.\n",
      "  warn(\"To exit: use 'exit', 'quit', or Ctrl-D.\", stacklevel=1)\n"
     ]
    }
   ],
   "source": [
    "defined_vars = [var for var in locals()]\n",
    "\n",
    "if 'get_features' not in defined_vars:\n",
    "    sys.exit(\"\\nВы должны создать функцию с именем get_features.\")\n",
    "feedback = '\\nПроверьте ваши вычисления.\\nВаш ответ {student_answer}\\nПравильный ответ {master_answer}'\n",
    "    \n",
    "def get_master_solution(train_data):  \n",
    "    model = sm.GLM.from_formula('is_prohibited ~ weight + height + width + type', family = sm.families.Binomial(), data = train_data)\n",
    "    result = model.fit()\n",
    "    sum = 0\n",
    "    features = []\n",
    "    for i in range(1, len(result.pvalues)):\n",
    "        if result.pvalues[i] < 0.05:\n",
    "            features.append(result.pvalues.index[i])\n",
    "            sum +=1\n",
    "    if sum == 0:\n",
    "        rslt = 'Prediction makes no sense'\n",
    "    else:\n",
    "        rslt = features\n",
    "    return rslt\n",
    "\n",
    "master_answer = get_master_solution(train_data)\n",
    "student_answer = get_features(train_data)\n",
    "if not set(master_answer) == set(student_answer) :\n",
    "            sys.exit(feedback.format(student_answer=student_answer, master_answer=master_answer))\n",
    "\n",
    "print('correct')"
   ]
  },
  {
   "cell_type": "code",
   "execution_count": null,
   "metadata": {},
   "outputs": [],
   "source": []
  }
 ],
 "metadata": {
  "kernelspec": {
   "display_name": "Python 3",
   "language": "python",
   "name": "python3"
  },
  "language_info": {
   "codemirror_mode": {
    "name": "ipython",
    "version": 3
   },
   "file_extension": ".py",
   "mimetype": "text/x-python",
   "name": "python",
   "nbconvert_exporter": "python",
   "pygments_lexer": "ipython3",
   "version": "3.7.8"
  }
 },
 "nbformat": 4,
 "nbformat_minor": 4
}
