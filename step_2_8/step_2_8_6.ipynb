{
 "cells": [
  {
   "cell_type": "markdown",
   "id": "d7e45705-72ae-4631-8b59-0427b1288edf",
   "metadata": {},
   "source": [
    "https://stepik.org/lesson/26559/step/6?unit=8406\n",
    "\n",
    "Напишите функцию normality_test, которая получает на вход dataframe с произвольным количеством переменных разных типов (количественные, строки, факторы) и проверяет нормальность распределения количественных переменных. Функция должна возвращать вектор значений p-уровней значимости теста shapiro для каждой количественной переменной.\n",
    "\n",
    "Вот такая задача уж точно встретится вам в реальной практике не один раз!\n"
   ]
  },
  {
   "cell_type": "code",
   "execution_count": 2,
   "id": "51f2722f-d21e-4d9b-bd67-b60e8407220d",
   "metadata": {},
   "outputs": [],
   "source": [
    "# код выполняется перед стартом задачи"
   ]
  },
  {
   "cell_type": "code",
   "execution_count": 1,
   "id": "da2eec27-c01b-4241-b240-388a50795ff3",
   "metadata": {},
   "outputs": [],
   "source": [
    "import pandas as pd\n",
    "import numpy as np\n",
    "import sys\n",
    "from scipy.stats import shapiro\n",
    "from random import randint\n"
   ]
  },
  {
   "cell_type": "code",
   "execution_count": 2,
   "id": "02ea4e12-bfe2-4c0e-9984-fca578c0fd5b",
   "metadata": {},
   "outputs": [],
   "source": [
    "# студент вводит свой код"
   ]
  },
  {
   "cell_type": "code",
   "execution_count": 3,
   "id": "99d3f68c-91f6-4be6-b3fa-0879a74790ae",
   "metadata": {},
   "outputs": [],
   "source": [
    "def normality_test(dataset):\n",
    "    \n",
    "    return [1, 1, 1]"
   ]
  },
  {
   "cell_type": "code",
   "execution_count": 4,
   "id": "b717b476-a03b-4d9a-84cb-b28eb909af0c",
   "metadata": {},
   "outputs": [],
   "source": [
    "# код, который выполняется после отправки решения"
   ]
  },
  {
   "cell_type": "code",
   "execution_count": 5,
   "id": "c8c66c45-3099-4107-8d82-4946727b0075",
   "metadata": {},
   "outputs": [
    {
     "ename": "SystemExit",
     "evalue": "\nПроверьте ваши вычисления.\nВаш ответ [1, 1, 1]\nПравильный ответ [0.5682105422019958, 0.24583366513252258, 0.3141901195049286, 0.00937374122440815]",
     "output_type": "error",
     "traceback": [
      "An exception has occurred, use %tb to see the full traceback.\n",
      "\u001b[1;31mSystemExit\u001b[0m\u001b[1;31m:\u001b[0m \nПроверьте ваши вычисления.\nВаш ответ [1, 1, 1]\nПравильный ответ [0.5682105422019958, 0.24583366513252258, 0.3141901195049286, 0.00937374122440815]\n"
     ]
    },
    {
     "name": "stderr",
     "output_type": "stream",
     "text": [
      "C:\\Users\\User\\miniconda3\\lib\\site-packages\\IPython\\core\\interactiveshell.py:3339: UserWarning: To exit: use 'exit', 'quit', or Ctrl-D.\n",
      "  warn(\"To exit: use 'exit', 'quit', or Ctrl-D.\", stacklevel=1)\n"
     ]
    }
   ],
   "source": [
    "defined_vars = [var for var in locals()]\n",
    "\n",
    "if 'normality_test' not in defined_vars:\n",
    "    sys.exit(\"\\nВы должны создать функцию с именем normality_test.\")\n",
    "\n",
    "\n",
    "feedback = '\\nПроверьте ваши вычисления.\\nВаш ответ {student_answer}\\nПравильный ответ {master_answer}'\n",
    "    \n",
    "def is_almost_equal(x,y, epsilon=10**(-2)): \n",
    "    return abs(float(x)-float(y)) <= epsilon     \n",
    "    \n",
    "def get_master_solution(test_data):\n",
    "    result = test_data.select_dtypes('number').apply(shapiro).loc[1].to_list()\n",
    "    return result    \n",
    "\n",
    "\n",
    "# test from stepic\n",
    "\n",
    "test_data = pd.read_csv('https://stepic.org/media/attachments/course/524/test.csv')\n",
    "\n",
    "master_answer = get_master_solution(test_data)\n",
    "student_answer = normality_test(test_data)\n",
    "    \n",
    "for i, j in zip(master_answer, student_answer):\n",
    "    if not is_almost_equal(i, j):\n",
    "        sys.exit(feedback.format(student_answer=student_answer, master_answer=master_answer))\n",
    "\n",
    "\n",
    "# random test\n",
    "            \n",
    "for i in range(10):\n",
    "    col_num = randint(6, 10)\n",
    "    test_data = pd.DataFrame({})\n",
    "    for i in range(col_num):\n",
    "        flip = randint(0, 3)\n",
    "        is_int = flip == 0\n",
    "        is_float = flip == 1\n",
    "        is_object = flip == 2\n",
    "        is_bool = flip == 3\n",
    "\n",
    "        if is_int:\n",
    "            X = np.random.binomial(10, 0.5, 100)\n",
    "        elif is_float:\n",
    "            X = np.random.random(100)\n",
    "        elif is_object:\n",
    "            X = ['string']*100\n",
    "        else:\n",
    "            X = True\n",
    "        test_data[f'col_{i}'] = X\n",
    "    \n",
    "    \n",
    "    \n",
    "    master_answer = get_master_solution(test_data)\n",
    "    student_answer = normality_test(test_data)\n",
    "    \n",
    "    for i, j in zip(master_answer, student_answer):\n",
    "        if not is_almost_equal(i, j):\n",
    "            sys.exit(feedback.format(student_answer=student_answer, master_answer=master_answer))\n",
    "\n",
    "print('correct')\n"
   ]
  },
  {
   "cell_type": "code",
   "execution_count": null,
   "id": "cf6564af-9ed5-402c-ba93-326cea513ff8",
   "metadata": {},
   "outputs": [],
   "source": []
  }
 ],
 "metadata": {
  "kernelspec": {
   "display_name": "Python 3",
   "language": "python",
   "name": "python3"
  },
  "language_info": {
   "codemirror_mode": {
    "name": "ipython",
    "version": 3
   },
   "file_extension": ".py",
   "mimetype": "text/x-python",
   "name": "python",
   "nbconvert_exporter": "python",
   "pygments_lexer": "ipython3",
   "version": "3.7.6"
  }
 },
 "nbformat": 4,
 "nbformat_minor": 5
}
