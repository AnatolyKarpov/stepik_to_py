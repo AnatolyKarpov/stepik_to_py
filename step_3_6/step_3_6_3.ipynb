{
 "cells": [
  {
   "cell_type": "markdown",
   "metadata": {},
   "source": [
    "https://stepik.org/lesson/26672/step/3?unit=8484\n",
    "\n",
    "Напишите функцию get_pc, которая получает на вход DataFrame с произвольным числом количественных переменных. Функция должна выполнять анализ главных компонент и возвращать две колонки со значениями первой и второй главной компоненты. Новые переменные должны называться \"PC1\"  и \"PC2\" соответственно.\n",
    "\n",
    "Пример работы функции:\n",
    "```python\n",
    ">>> test_data = pd.read_csv(\"https://stepic.org/media/attachments/course/524/pca_test.csv\")\n",
    "\n",
    ">>> test_data\n",
    "  V1 V2 V3 V4 V5\n",
    "1 13 15 12 13 12\n",
    "2 16 11  8 12  6\n",
    "3 15  7 10 12 13\n",
    "4 12 11  6  6  4\n",
    "5 11 13 13 10 12\n",
    "\n",
    ">>> get_pc(test_data)\n",
    "       PCA1      PCA2\n",
    "0 -4.500822 -2.364595\n",
    "1  3.039182  1.929687\n",
    "2 -2.752467  5.076265\n",
    "3  7.837194 -1.688535\n",
    "4 -3.623088 -2.952822\n",
    "```\n",
    " \n",
    "Для выполнения анализа главных компонент используйте функцию [sklearn.decomposition.PCA](https://scikit-learn.org/stable/modules/generated/sklearn.decomposition.PCA.html)"
   ]
  },
  {
   "cell_type": "code",
   "execution_count": 162,
   "metadata": {},
   "outputs": [],
   "source": [
    "import sys\n",
    "\n",
    "import pandas as pd\n",
    "from sklearn.decomposition import PCA\n",
    "\n",
    "from typing import Callable, List, Tuple"
   ]
  },
  {
   "cell_type": "code",
   "execution_count": 163,
   "metadata": {},
   "outputs": [],
   "source": [
    "class WrongAnswer(Exception): \n",
    "    def __init__(self, msg):\n",
    "        msg = (\n",
    "            '\\nПроверьте ваши вычисления.'\n",
    "            '\\nDataFrame, который возвращает ваша функция не проходит проверку:'\n",
    "            '\\n{err_msg}'\n",
    "        )\n",
    "        super().__init__(msg.format(err_msg=err_msg))"
   ]
  },
  {
   "cell_type": "code",
   "execution_count": 164,
   "metadata": {},
   "outputs": [],
   "source": [
    "def result_is_correct(actual: pd.DataFrame, expected: pd.DataFrame):\n",
    "    try:\n",
    "        pd.testing.assert_frame_equal(\n",
    "            actual, \n",
    "            expected, \n",
    "            check_less_precise=1\n",
    "        )\n",
    "    except AssertionError as e:\n",
    "        raise WrongAnswer(e)"
   ]
  },
  {
   "cell_type": "code",
   "execution_count": 165,
   "metadata": {},
   "outputs": [],
   "source": [
    "def get_test_cases() -> List[Tuple[pd.DataFrame, pd.DataFrame]]:\n",
    "    test_cases = []\n",
    "    \n",
    "    # 1\n",
    "    test_columns = ['V1', 'V2', 'V3', 'V4', 'V5']\n",
    "    test_data = [\n",
    "            [13, 15, 12, 13, 12],\n",
    "            [16, 11,  8, 12,  6],\n",
    "            [15,  7, 10, 12, 13],\n",
    "            [12, 11,  6,  6,  4],\n",
    "            [11, 13, 13, 10, 12]\n",
    "        ]\n",
    "    \n",
    "    result_columns = ['PCA1', 'PCA2']\n",
    "    result_data = [\n",
    "            [-4.501, -2.365],\n",
    "            [ 3.039,  1.93 ],\n",
    "            [-2.752,  5.076],\n",
    "            [ 7.837, -1.689],\n",
    "            [-3.623, -2.953]\n",
    "        ]\n",
    "    \n",
    "    test_cases.append(\n",
    "        (\n",
    "            pd.DataFrame(data=test_data, columns=test_columns),\n",
    "            pd.DataFrame(data=result_data, columns=result_columns) \n",
    "        )\n",
    "    )\n",
    "    \n",
    "    # 2\n",
    "    test_columns = ['V1', 'V2', 'V3', 'V4']\n",
    "    test_data = [\n",
    "            [18,  9, 11, 15],\n",
    "            [16, 14, 12,  9],\n",
    "            [20, 15, 12, 15],\n",
    "            [ 2, 18,  4,  7],\n",
    "            [ 1,  4, 14,  8],\n",
    "            [13,  5,  8, 14]\n",
    "        ]\n",
    "    \n",
    "    result_columns = ['PCA1', 'PCA2']\n",
    "    result_data = [\n",
    "            [-7.128, -2.32 ],\n",
    "            [-3.631,  2.866],\n",
    "            [-9.524,  2.939],\n",
    "            [10.759,  9.057],\n",
    "            [11.014, -7.539],\n",
    "            [-1.489, -5.002]\n",
    "        ]\n",
    "    \n",
    "    test_cases.append(\n",
    "        (\n",
    "            pd.DataFrame(data=test_data, columns=test_columns),\n",
    "            pd.DataFrame(data=result_data, columns=result_columns) \n",
    "        )\n",
    "    )\n",
    "    \n",
    "    # 3\n",
    "    test_columns = ['V1', 'V2']\n",
    "    test_data = [\n",
    "           [-1, -1],\n",
    "           [-2, -1],\n",
    "           [-3, -2],\n",
    "           [ 1,  1],\n",
    "           [ 2,  1],\n",
    "           [ 3,  2]\n",
    "        ]\n",
    "    \n",
    "    result_columns = ['PCA1', 'PCA2']\n",
    "    result_data = [\n",
    "           [ 1.383,  0.294],\n",
    "           [ 2.222, -0.251],\n",
    "           [ 3.605,  0.042],\n",
    "           [-1.383, -0.294],\n",
    "           [-2.222,  0.251],\n",
    "           [-3.605, -0.042]\n",
    "        ]\n",
    "    \n",
    "    test_cases.append(\n",
    "        (\n",
    "            pd.DataFrame(data=test_data, columns=test_columns),\n",
    "            pd.DataFrame(data=result_data, columns=result_columns) \n",
    "        )\n",
    "    )\n",
    "    \n",
    "    return test_cases"
   ]
  },
  {
   "cell_type": "code",
   "execution_count": 175,
   "metadata": {},
   "outputs": [],
   "source": [
    "def get_pc(x: pd.DataFrame) -> pd.DataFrame:\n",
    "    pass"
   ]
  },
  {
   "cell_type": "code",
   "execution_count": 169,
   "metadata": {},
   "outputs": [],
   "source": [
    "def check_student_func(student_func: Callable[[pd.DataFrame], pd.DataFrame]):\n",
    "    for input_data, expected_answer in get_test_cases():\n",
    "        student_answer = student_func(input_data)\n",
    "        result_is_correct(student_answer, expected_answer)"
   ]
  },
  {
   "cell_type": "code",
   "execution_count": 173,
   "metadata": {},
   "outputs": [],
   "source": [
    "def main():\n",
    "    try:\n",
    "        check_student_func(get_pc)\n",
    "    except Exception as e:\n",
    "        sys.exit(e)\n",
    "    else:\n",
    "        print('correct')"
   ]
  },
  {
   "cell_type": "code",
   "execution_count": 171,
   "metadata": {},
   "outputs": [],
   "source": [
    "def master_solution(x: pd.DataFrame) -> pd.DataFrame:\n",
    "    components_names = ['PCA1', 'PCA2']\n",
    "    pca = PCA(n_components=len(components_names))\n",
    "    pca_components = pca.fit_transform(x.values)\n",
    "    return pd.DataFrame(data=pca_components, columns=components_names)"
   ]
  },
  {
   "cell_type": "markdown",
   "metadata": {},
   "source": [
    "# Tests"
   ]
  },
  {
   "cell_type": "code",
   "execution_count": 176,
   "metadata": {},
   "outputs": [
    {
     "ename": "SystemExit",
     "evalue": "name 'get_pc' is not defined",
     "output_type": "error",
     "traceback": [
      "An exception has occurred, use %tb to see the full traceback.\n",
      "\u001b[0;31mSystemExit\u001b[0m\u001b[0;31m:\u001b[0m name 'get_pc' is not defined\n"
     ]
    }
   ],
   "source": [
    "del get_pc\n",
    "main()"
   ]
  },
  {
   "cell_type": "code",
   "execution_count": 178,
   "metadata": {},
   "outputs": [
    {
     "ename": "SystemExit",
     "evalue": "\nПроверьте ваши вычисления.\nDataFrame, который возвращает ваша функция не проходит проверку:\nDataFrame.columns are different\n\nDataFrame.columns values are different (100.0 %)\n[left]:  Index(['V1', 'V2'], dtype='object')\n[right]: Index(['PCA1', 'PCA2'], dtype='object')",
     "output_type": "error",
     "traceback": [
      "An exception has occurred, use %tb to see the full traceback.\n",
      "\u001b[0;31mSystemExit\u001b[0m\u001b[0;31m:\u001b[0m \nПроверьте ваши вычисления.\nDataFrame, который возвращает ваша функция не проходит проверку:\nDataFrame.columns are different\n\nDataFrame.columns values are different (100.0 %)\n[left]:  Index(['V1', 'V2'], dtype='object')\n[right]: Index(['PCA1', 'PCA2'], dtype='object')\n"
     ]
    }
   ],
   "source": [
    "get_pc = lambda x: x[x.columns[:2]]\n",
    "main()"
   ]
  },
  {
   "cell_type": "code",
   "execution_count": 183,
   "metadata": {},
   "outputs": [
    {
     "ename": "SystemExit",
     "evalue": "\nПроверьте ваши вычисления.\nDataFrame, который возвращает ваша функция не проходит проверку:\nDataFrame.iloc[:, 0] (column name=\"PCA1\") are different\n\nDataFrame.iloc[:, 0] (column name=\"PCA1\") values are different (100.0 %)\n[left]:  [13.0, 16.0, 15.0, 12.0, 11.0]\n[right]: [-4.501, 3.039, -2.752, 7.837, -3.623]",
     "output_type": "error",
     "traceback": [
      "An exception has occurred, use %tb to see the full traceback.\n",
      "\u001b[0;31mSystemExit\u001b[0m\u001b[0;31m:\u001b[0m \nПроверьте ваши вычисления.\nDataFrame, который возвращает ваша функция не проходит проверку:\nDataFrame.iloc[:, 0] (column name=\"PCA1\") are different\n\nDataFrame.iloc[:, 0] (column name=\"PCA1\") values are different (100.0 %)\n[left]:  [13.0, 16.0, 15.0, 12.0, 11.0]\n[right]: [-4.501, 3.039, -2.752, 7.837, -3.623]\n"
     ]
    }
   ],
   "source": [
    "get_pc = lambda x: x[['V1', 'V2']].rename(columns={'V1': 'PCA1', 'V2': 'PCA2'}).astype(float)\n",
    "main()"
   ]
  },
  {
   "cell_type": "code",
   "execution_count": 184,
   "metadata": {},
   "outputs": [
    {
     "name": "stdout",
     "output_type": "stream",
     "text": [
      "correct\n"
     ]
    }
   ],
   "source": [
    "get_pc = master_solution\n",
    "main()"
   ]
  }
 ],
 "metadata": {
  "kernelspec": {
   "display_name": "Python 3",
   "language": "python",
   "name": "python3"
  },
  "language_info": {
   "codemirror_mode": {
    "name": "ipython",
    "version": 3
   },
   "file_extension": ".py",
   "mimetype": "text/x-python",
   "name": "python",
   "nbconvert_exporter": "python",
   "pygments_lexer": "ipython3",
   "version": "3.6.10"
  }
 },
 "nbformat": 4,
 "nbformat_minor": 4
}
