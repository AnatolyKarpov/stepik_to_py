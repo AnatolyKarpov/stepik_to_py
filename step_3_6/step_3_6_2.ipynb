{
 "cells": [
  {
   "cell_type": "markdown",
   "metadata": {},
   "source": [
    "[3.6.2](https://stepik.org/lesson/26672/step/2?auth=login&unit=8484) Интересной особенностью кластерного анализа является тот факт, что мы получаем только итоговый ответ, к какому кластеру принадлежит каждое наблюдение. Однако мы не знаем, по каким переменным различаются выделенные кластеры. Поэтому, если нас интересует не только сам факт того, что мы смогли выделить кластеры в наших данных, но мы также хотим понять, чем же они различаются, разумно сравнить кластеры между собой по имеющимся переменным.\n",
    "\n",
    "Напишите функцию get_difference, которая получает на вход два аргумента: \n",
    "\n",
    "    df — набор данных с произвольным числом количественных переменных.\n",
    "    n_cluster — число кластеров, которое нужно выделить в данных при помощи иерархической кластеризации.\n",
    "\n",
    "Функция должна вернуть названия переменных, по которым были обнаружен значимые различия между выделенными кластерами (p < 0.05). Иными словами, после того, как мы выделили заданное число кластеров, мы добавляем в исходные данные новую группирующую переменную — номер кластера, и сравниваем получившиеся группы между собой по количественным переменным при помощи дисперсионного анализа."
   ]
  },
  {
   "cell_type": "code",
   "execution_count": 22,
   "metadata": {},
   "outputs": [],
   "source": [
    "# код выполняется перед стартом задачи\n",
    "import sys\n",
    "import pandas as pd\n",
    "from random import randint, uniform\n",
    "from sklearn.cluster import AgglomerativeClustering\n",
    "import statsmodels.api as sm\n",
    "from statsmodels.formula.api import ols\n",
    "\n",
    "# Генерируем df:\n",
    "n_col = randint(3, 20)\n",
    "size = 1000\n",
    "column_names = ['V' + str(i + 1) for i in range(n_col)]\n",
    "df = pd.DataFrame(columns = column_names)\n",
    "for i in range(len(df.columns)):\n",
    "    df[column_names[i]] = [uniform(0, 1) for _ in range(size)]\n",
    "# Генерируем количество кластеров:\n",
    "n_cluster = randint(2, n_col//2 )"
   ]
  },
  {
   "cell_type": "code",
   "execution_count": 23,
   "metadata": {},
   "outputs": [],
   "source": [
    "# студент вводит свой код"
   ]
  },
  {
   "cell_type": "code",
   "execution_count": 24,
   "metadata": {},
   "outputs": [],
   "source": [
    "def get_difference(df, n_cluster):\n",
    "    df1 = df.copy()\n",
    "    cluster1 = AgglomerativeClustering(n_clusters = n_cluster, affinity='euclidean', linkage='ward')  \n",
    "    df1['cluster'] =  cluster1.fit_predict(df1)\n",
    "    df1['cluster'] = pd.factorize(df1.cluster)[0]\n",
    "    my_formula1 = 'cluster~ V1 + V2' \n",
    "    model1 = ols(formula = my_formula1, data=df1).fit()\n",
    "    anova_table1 = sm.stats.anova_lm(model1, typ=2)\n",
    "    anova_table1 = anova_table1[anova_table1.index != 'Residual']\n",
    "    rslt1 =  list(anova_table1[anova_table1['PR(>F)'] < 0.05].index)\n",
    "    return rslt1"
   ]
  },
  {
   "cell_type": "code",
   "execution_count": 25,
   "metadata": {},
   "outputs": [],
   "source": [
    "# код, который выполняется после отправки решения"
   ]
  },
  {
   "cell_type": "code",
   "execution_count": 26,
   "metadata": {},
   "outputs": [
    {
     "ename": "SystemExit",
     "evalue": "\nПроверьте ваши вычисления.\nВаш ответ ['V1', 'V2']\nПравильный ответ V1, V2, V4, V5, V6, V7",
     "output_type": "error",
     "traceback": [
      "An exception has occurred, use %tb to see the full traceback.\n",
      "\u001b[1;31mSystemExit\u001b[0m\u001b[1;31m:\u001b[0m \nПроверьте ваши вычисления.\nВаш ответ ['V1', 'V2']\nПравильный ответ V1, V2, V4, V5, V6, V7\n"
     ]
    },
    {
     "name": "stderr",
     "output_type": "stream",
     "text": [
      "c:\\users\\elizaveta\\appdata\\local\\programs\\python\\python37\\lib\\site-packages\\IPython\\core\\interactiveshell.py:3426: UserWarning: To exit: use 'exit', 'quit', or Ctrl-D.\n",
      "  warn(\"To exit: use 'exit', 'quit', or Ctrl-D.\", stacklevel=1)\n"
     ]
    }
   ],
   "source": [
    "defined_vars = [var for var in locals()]\n",
    "\n",
    "if 'get_difference' not in defined_vars:\n",
    "    sys.exit(\"\\nВы должны создать функцию с именем get_difference.\")\n",
    "\n",
    "feedback = '\\nПроверьте ваши вычисления.\\nВаш ответ {student_answer}\\nПравильный ответ {master_answer}'\n",
    "\n",
    "def get_master_solution(df, n_cluster):  \n",
    "    cluster = AgglomerativeClustering(n_clusters = n_cluster, affinity='euclidean', linkage='ward')  \n",
    "    df['cluster'] =  cluster.fit_predict(df)\n",
    "    df['cluster'] = pd.factorize(df.cluster)[0]\n",
    "    all_columns = \"+\".join(list(df.columns)[0:-1])\n",
    "    my_formula = 'cluster~' + all_columns\n",
    "    model = ols(formula = my_formula, data=df).fit()\n",
    "    anova_table = sm.stats.anova_lm(model, typ=2)\n",
    "    anova_table = anova_table[anova_table.index != 'Residual']\n",
    "    rslt =  list(anova_table[anova_table['PR(>F)'] < 0.05].index)\n",
    "    return ', '.join(map(str, rslt))\n",
    "\n",
    "master_answer = get_master_solution(df, n_cluster)\n",
    "student_answer = get_difference(df, n_cluster)\n",
    "\n",
    "if not set(student_answer) == set(master_answer):\n",
    "    sys.exit(feedback.format(student_answer=student_answer, master_answer=master_answer))\n",
    "\n",
    "print('correct')"
   ]
  }
 ],
 "metadata": {
  "kernelspec": {
   "display_name": "Python 3",
   "language": "python",
   "name": "python3"
  },
  "language_info": {
   "codemirror_mode": {
    "name": "ipython",
    "version": 3
   },
   "file_extension": ".py",
   "mimetype": "text/x-python",
   "name": "python",
   "nbconvert_exporter": "python",
   "pygments_lexer": "ipython3",
   "version": "3.7.8"
  }
 },
 "nbformat": 4,
 "nbformat_minor": 4
}
