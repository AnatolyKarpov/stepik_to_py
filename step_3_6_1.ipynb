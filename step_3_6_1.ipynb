{
 "cells": [
  {
   "cell_type": "markdown",
   "metadata": {},
   "source": [
    "[3.6.1](https://stepik.org/lesson/26672/step/1?auth=login&unit=8484) Напишите функцию smart_hclust, которая получает на вход dataframe  с произвольным числом количественных переменных и число кластеров, которое необходимо выделить при помощи иерархической кластеризации.\n",
    "Функция должна в исходный набор данных добавлять новую переменную фактор - **cluster**  -- номер кластера, к которому отнесено каждое из наблюдений."
   ]
  },
  {
   "cell_type": "code",
   "execution_count": 106,
   "metadata": {},
   "outputs": [],
   "source": [
    "# код выполняется перед стартом задачи\n",
    "import sys\n",
    "import pandas as pd\n",
    "#import numpy as np\n",
    "from random import randint, uniform\n",
    "#import scipy.cluster.hierarchy as shc\n",
    "from sklearn.cluster import AgglomerativeClustering\n",
    "#import statsmodels.api as sm\n",
    "#from statsmodels.formula.api import ols\n",
    "# Генерируем df:\n",
    "n_col = randint(3, 20)\n",
    "size = 1000\n",
    "column_names = ['V' + str(i + 1) for i in range(n_col)]\n",
    "df = pd.DataFrame(columns = column_names)\n",
    "for i in range(len(df.columns)):\n",
    "    df[column_names[i]] = [uniform(0, 1) for _ in range(size)]\n",
    "# Генерируем количество кластеров:\n",
    "n_cluster = randint(2, n_col//2 )"
   ]
  },
  {
   "cell_type": "code",
   "execution_count": 107,
   "metadata": {},
   "outputs": [],
   "source": [
    "# студент вводит свой код"
   ]
  },
  {
   "cell_type": "code",
   "execution_count": 108,
   "metadata": {},
   "outputs": [],
   "source": [
    "def smart_hclust(df, n_cluster):\n",
    "    #df1 = pd.DataFrame(columns = column_names)\n",
    "    #for i in range(len(df1.columns)):\n",
    "    #    df1[column_names[i]] = [uniform(0, 1) for _ in range(size)]\n",
    "    #df1['cluster'] = [randint(0,3) for _ in range(size)]\n",
    "    return df1"
   ]
  },
  {
   "cell_type": "code",
   "execution_count": 109,
   "metadata": {},
   "outputs": [],
   "source": [
    "# код, который выполняется после отправки решения"
   ]
  },
  {
   "cell_type": "code",
   "execution_count": 110,
   "metadata": {},
   "outputs": [
    {
     "ename": "SystemExit",
     "evalue": "\nПроверьте названия и порядок столбцов.\nВаш ответ Index(['V1', 'V2', 'V3', 'V4', 'V5', 'V6', 'V7', 'V8', 'V9', 'V10', 'V11',\n       'V12', 'V13', 'V14', 'V15', 'V16', 'V17', 'V18', 'V19', 'V20',\n       'cluster'],\n      dtype='object')\nПравильный ответ Index(['V1', 'V2', 'V3', 'V4', 'V5', 'V6', 'V7', 'V8', 'V9', 'V10', 'V11',\n       'V12', 'V13', 'V14', 'V15', 'V16', 'V17', 'cluster'],\n      dtype='object')",
     "output_type": "error",
     "traceback": [
      "An exception has occurred, use %tb to see the full traceback.\n",
      "\u001b[1;31mSystemExit\u001b[0m\u001b[1;31m:\u001b[0m \nПроверьте названия и порядок столбцов.\nВаш ответ Index(['V1', 'V2', 'V3', 'V4', 'V5', 'V6', 'V7', 'V8', 'V9', 'V10', 'V11',\n       'V12', 'V13', 'V14', 'V15', 'V16', 'V17', 'V18', 'V19', 'V20',\n       'cluster'],\n      dtype='object')\nПравильный ответ Index(['V1', 'V2', 'V3', 'V4', 'V5', 'V6', 'V7', 'V8', 'V9', 'V10', 'V11',\n       'V12', 'V13', 'V14', 'V15', 'V16', 'V17', 'cluster'],\n      dtype='object')\n"
     ]
    },
    {
     "name": "stderr",
     "output_type": "stream",
     "text": [
      "c:\\users\\elizaveta\\appdata\\local\\programs\\python\\python37\\lib\\site-packages\\IPython\\core\\interactiveshell.py:3426: UserWarning: To exit: use 'exit', 'quit', or Ctrl-D.\n",
      "  warn(\"To exit: use 'exit', 'quit', or Ctrl-D.\", stacklevel=1)\n"
     ]
    }
   ],
   "source": [
    "defined_vars = [var for var in locals()]\n",
    "\n",
    "if 'smart_hclust' not in defined_vars:\n",
    "    sys.exit(\"\\nВы должны создать функцию с именем smart_hclust.\")\n",
    "\n",
    "feedback = '\\nПроверьте названия и порядок столбцов.\\nВаш ответ {student_answer}\\nПравильный ответ {master_answer}'\n",
    "feedback1 = '\\nПроверьте ваши вычисления.\\nВаш ответ {student_answer}\\nПравильный ответ {master_answer}'\n",
    "\n",
    "def get_master_solution(df, n_cluster):  \n",
    "    cluster = AgglomerativeClustering(n_clusters = n_cluster, affinity='euclidean', linkage='ward')  \n",
    "    df['cluster'] =  cluster.fit_predict(df)\n",
    "    return df\n",
    "\n",
    "master_answer = get_master_solution(df, n_cluster)\n",
    "student_answer = smart_hclust(df, n_cluster)\n",
    "\n",
    "if not list(master_answer.columns) == list(student_answer.columns):\n",
    "    sys.exit(feedback.format(student_answer=student_answer.columns, master_answer=master_answer.columns))\n",
    "elif master_answer.compare(student_answer).size != 0:\n",
    "    sys.exit(feedback1.format(student_answer=student_answer, master_answer=master_answer))\n",
    "\n",
    "print('correct')"
   ]
  }
 ],
 "metadata": {
  "kernelspec": {
   "display_name": "Python 3",
   "language": "python",
   "name": "python3"
  },
  "language_info": {
   "codemirror_mode": {
    "name": "ipython",
    "version": 3
   },
   "file_extension": ".py",
   "mimetype": "text/x-python",
   "name": "python",
   "nbconvert_exporter": "python",
   "pygments_lexer": "ipython3",
   "version": "3.7.8"
  }
 },
 "nbformat": 4,
 "nbformat_minor": 4
}
